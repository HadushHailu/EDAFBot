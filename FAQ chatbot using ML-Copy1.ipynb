{
 "cells": [
  {
   "cell_type": "code",
   "execution_count": 132,
   "metadata": {
    "collapsed": true
   },
   "outputs": [
    {
     "name": "stdout",
     "output_type": "stream",
     "text": [
      "['?', 'ተብሎ', 'የሚጠራ', 'ሲሆን', 'ይህም', 'ወይም', 'በሌሎች', 'ላይ', 'ነው', 'በ ', 'የ ', 'ከ', 'ሊሆኑ', 'ማለት', 'ይችላሉ', 'ወይ', 'ይችላል', 'በጣም', 'ከመሆን', 'የተነሳ', 'ወደ', 'ሙሉ', 'አይነት', 'ጨምሮ', 'የአንድ', 'አንድ', 'ግለሰብ', 'የሆነ', 'ሁኔታ', 'ውስጥ', 'ናቸው', 'ማለትም', 'የሚገኙ', 'በአደገኛ', 'አደገኛ', 'ወይንም', 'በአንድ', 'እንዲሁም', 'ሲሆን', 'በግዜው', 'ጨምሮ', 'ያሉ', 'ሰዎች', 'በአብዛኛውን', 'ሰው', 'ምንም', 'ሆኖ', 'ከሰው', 'ወደ', 'ከባድ', 'ምንድ', 'ምንድን', 'ምንድነው', 'ምንድናቸው', 'ነው', 'ናቸው', 'ስንል', 'ምን', 'ማለታችን', 'ማለት', 'አለው', 'የምን', 'የያዘው', 'እንዴት', 'የያዘውን', 'ሊሆን', 'የምን', 'በምን', 'የሚችል', 'ማን', 'በተለየ', 'በአብዛኛው', 'የቱን', 'የትኛው', 'እንዴት', 'አይነቶች', 'አለብን', 'ያለብን', 'ከመያዛችን', 'በፊት', 'የመያዝ', 'አጋጣሚን', 'አጋጣሚ', 'እንዳለብን', 'አሉት', 'በሰአቱ', 'በግዜው', 'ሁሉ', 'ሁሉም', 'ሆነ', 'ሆኖም', 'ሁሉንም', 'ማለት', 'ማን', 'ብቻ', 'ነገር', 'ነገሮች', 'ናቸው', 'አሁን', 'አለ', 'እስከ', 'እንኳን', 'እስከ', 'እዚሁ', 'እና', 'እንደ', 'ከ', 'ወዘተ', 'ወይም', 'ዋና', 'ይህ', 'ደግሞ', 'ጋራ', 'ግን', 'ጋር', 'ሆኖም', 'ማን', 'ለማን', 'ማነው', 'ማንማን', 'ማንን', 'ከማንኛው', 'ማንኛው', 'በማን', 'ጥቀስ', 'ግለፅ', 'ዘርዝር', 'ጥራ', 'ምን', 'ምንድን', 'የምን', 'ለምን', 'በምን', 'ወይ', 'ይሆን', 'እንደ', 'እንዴት']\n"
     ]
    },
    {
     "ename": "TypeError",
     "evalue": "argument of type 'WordListCorpusReader' is not iterable",
     "output_type": "error",
     "traceback": [
      "\u001b[1;31m---------------------------------------------------------------------------\u001b[0m",
      "\u001b[1;31mTypeError\u001b[0m                                 Traceback (most recent call last)",
      "\u001b[1;32m<ipython-input-132-a88cbe9dbb3a>\u001b[0m in \u001b[0;36m<module>\u001b[1;34m\u001b[0m\n\u001b[0;32m      9\u001b[0m \u001b[0mdata\u001b[0m\u001b[1;33m=\u001b[0m\u001b[1;34m'ምህንድስና ምንድ ነው? እስኪ ንገረኝ ምን ያህል ነው ጠቃሚ የሆነው?'\u001b[0m\u001b[1;33m\u001b[0m\u001b[1;33m\u001b[0m\u001b[0m\n\u001b[0;32m     10\u001b[0m \u001b[1;33m\u001b[0m\u001b[0m\n\u001b[1;32m---> 11\u001b[1;33m \u001b[0mdata1\u001b[0m\u001b[1;33m=\u001b[0m\u001b[0mremove_stopwords\u001b[0m\u001b[1;33m(\u001b[0m\u001b[0mdata\u001b[0m\u001b[1;33m)\u001b[0m\u001b[1;33m\u001b[0m\u001b[1;33m\u001b[0m\u001b[0m\n\u001b[0m\u001b[0;32m     12\u001b[0m \u001b[1;33m\u001b[0m\u001b[0m\n\u001b[0;32m     13\u001b[0m \u001b[0mprint\u001b[0m \u001b[1;33m(\u001b[0m\u001b[0mdata\u001b[0m\u001b[1;33m)\u001b[0m\u001b[1;33m\u001b[0m\u001b[1;33m\u001b[0m\u001b[0m\n",
      "\u001b[1;32m<ipython-input-84-0a03c32f0e09>\u001b[0m in \u001b[0;36mremove_stopwords\u001b[1;34m(text)\u001b[0m\n\u001b[0;32m     28\u001b[0m \u001b[0mprint\u001b[0m\u001b[1;33m(\u001b[0m\u001b[1;34m\"stopwords list\"\u001b[0m\u001b[1;33m,\u001b[0m\u001b[0mstopwords\u001b[0m\u001b[1;33m)\u001b[0m\u001b[1;33m\u001b[0m\u001b[1;33m\u001b[0m\u001b[0m\n\u001b[0;32m     29\u001b[0m \u001b[1;32mdef\u001b[0m \u001b[0mremove_stopwords\u001b[0m\u001b[1;33m(\u001b[0m\u001b[0mtext\u001b[0m\u001b[1;33m)\u001b[0m\u001b[1;33m:\u001b[0m\u001b[1;33m\u001b[0m\u001b[1;33m\u001b[0m\u001b[0m\n\u001b[1;32m---> 30\u001b[1;33m     \u001b[0mmodified_word_list\u001b[0m\u001b[1;33m=\u001b[0m\u001b[1;33m[\u001b[0m\u001b[0mword\u001b[0m \u001b[1;32mfor\u001b[0m \u001b[0mword\u001b[0m \u001b[1;32min\u001b[0m \u001b[0mtext\u001b[0m \u001b[1;32mif\u001b[0m \u001b[0mword\u001b[0m \u001b[1;32mnot\u001b[0m \u001b[1;32min\u001b[0m \u001b[0mstopwords\u001b[0m\u001b[1;33m]\u001b[0m\u001b[1;33m\u001b[0m\u001b[1;33m\u001b[0m\u001b[0m\n\u001b[0m\u001b[0;32m     31\u001b[0m     \u001b[0mprint\u001b[0m\u001b[1;33m(\u001b[0m\u001b[0mmodified_word_list\u001b[0m\u001b[1;33m)\u001b[0m\u001b[1;33m\u001b[0m\u001b[1;33m\u001b[0m\u001b[0m\n\u001b[0;32m     32\u001b[0m     \u001b[1;32mreturn\u001b[0m \u001b[0mmodified_word_list\u001b[0m\u001b[1;33m\u001b[0m\u001b[1;33m\u001b[0m\u001b[0m\n",
      "\u001b[1;32m<ipython-input-84-0a03c32f0e09>\u001b[0m in \u001b[0;36m<listcomp>\u001b[1;34m(.0)\u001b[0m\n\u001b[0;32m     28\u001b[0m \u001b[0mprint\u001b[0m\u001b[1;33m(\u001b[0m\u001b[1;34m\"stopwords list\"\u001b[0m\u001b[1;33m,\u001b[0m\u001b[0mstopwords\u001b[0m\u001b[1;33m)\u001b[0m\u001b[1;33m\u001b[0m\u001b[1;33m\u001b[0m\u001b[0m\n\u001b[0;32m     29\u001b[0m \u001b[1;32mdef\u001b[0m \u001b[0mremove_stopwords\u001b[0m\u001b[1;33m(\u001b[0m\u001b[0mtext\u001b[0m\u001b[1;33m)\u001b[0m\u001b[1;33m:\u001b[0m\u001b[1;33m\u001b[0m\u001b[1;33m\u001b[0m\u001b[0m\n\u001b[1;32m---> 30\u001b[1;33m     \u001b[0mmodified_word_list\u001b[0m\u001b[1;33m=\u001b[0m\u001b[1;33m[\u001b[0m\u001b[0mword\u001b[0m \u001b[1;32mfor\u001b[0m \u001b[0mword\u001b[0m \u001b[1;32min\u001b[0m \u001b[0mtext\u001b[0m \u001b[1;32mif\u001b[0m \u001b[0mword\u001b[0m \u001b[1;32mnot\u001b[0m \u001b[1;32min\u001b[0m \u001b[0mstopwords\u001b[0m\u001b[1;33m]\u001b[0m\u001b[1;33m\u001b[0m\u001b[1;33m\u001b[0m\u001b[0m\n\u001b[0m\u001b[0;32m     31\u001b[0m     \u001b[0mprint\u001b[0m\u001b[1;33m(\u001b[0m\u001b[0mmodified_word_list\u001b[0m\u001b[1;33m)\u001b[0m\u001b[1;33m\u001b[0m\u001b[1;33m\u001b[0m\u001b[0m\n\u001b[0;32m     32\u001b[0m     \u001b[1;32mreturn\u001b[0m \u001b[0mmodified_word_list\u001b[0m\u001b[1;33m\u001b[0m\u001b[1;33m\u001b[0m\u001b[0m\n",
      "\u001b[1;31mTypeError\u001b[0m: argument of type 'WordListCorpusReader' is not iterable"
     ]
    }
   ],
   "source": [
    "### Remove StopWords\n",
    "from nltk.corpus import stopwords\n",
    "f=open(\"stopwords.txt\",'r',encoding=\"utf-8\")\n",
    "stopword = ['?'] \n",
    "ignore_word=f.read().splitlines()\n",
    "f.close()\n",
    "stopword.extend(ignore_word)\n",
    "print (stopword)\n",
    "data='ምህንድስና ምንድ ነው? እስኪ ንገረኝ ምን ያህል ነው ጠቃሚ የሆነው?'\n",
    "\n",
    "data1=remove_stopwords(data)\n",
    "\n",
    "print (data)\n",
    "print (data1)\n",
    "\n",
    "def remove_stopwords(text):\n",
    "\tmodified_word_list=[word for word in text if word not in stopword]\n",
    "\treturn modified_word_list"
   ]
  },
  {
   "cell_type": "code",
   "execution_count": 4,
   "metadata": {},
   "outputs": [
    {
     "name": "stdout",
     "output_type": "stream",
     "text": [
      "['?', 'ተብሎ', 'የሚጠራ', 'ሲሆን', 'ይህም', 'ወይም', 'በሌሎች', 'ላይ', 'ነው', 'በ ', 'የ ', 'ከ', 'ሊሆኑ', 'ማለት', 'ይችላሉ', 'ወይ', 'ይችላል', 'በጣም', 'ከመሆን', 'የተነሳ', 'ወደ', 'ሙሉ', 'አይነት', 'ጨምሮ', 'የአንድ', 'አንድ', 'ግለሰብ', 'የሆነ', 'ሁኔታ', 'ውስጥ', 'ናቸው', 'ማለትም', 'የሚገኙ', 'በአደገኛ', 'አደገኛ', 'ወይንም', 'በአንድ', 'እንዲሁም', 'ሲሆን', 'በግዜው', 'ጨምሮ', 'ያሉ', 'ሰዎች', 'በአብዛኛውን', 'ሰው', 'ምንም', 'ሆኖ', 'ከሰው', 'ወደ', 'ከባድ', 'ምንድ', 'ምንድን', 'ምንድነው', 'ምንድናቸው', 'ነው', 'ናቸው', 'ስንል', 'ምን', 'ማለታችን', 'ማለት', 'አለው', 'የምን', 'የያዘው', 'እንዴት', 'የያዘውን', 'ሊሆን', 'የምን', 'በምን', 'የሚችል', 'ማን', 'በተለየ', 'በአብዛኛው', 'የቱን', 'የትኛው', 'እንዴት', 'አይነቶች', 'አለብን', 'ያለብን', 'ከመያዛችን', 'በፊት', 'የመያዝ', 'አጋጣሚን', 'አጋጣሚ', 'እንዳለብን', 'አሉት', 'በሰአቱ', 'በግዜው', 'ሁሉ', 'ሁሉም', 'ሆነ', 'ሆኖም', 'ሁሉንም', 'ማለት', 'ማን', 'ብቻ', 'ነገር', 'ነገሮች', 'ናቸው', 'አሁን', 'አለ', 'እስከ', 'እንኳን', 'እስከ', 'እዚሁ', 'እና', 'እንደ', 'ከ', 'ወዘተ', 'ወይም', 'ዋና', 'ይህ', 'ደግሞ', 'ጋራ', 'ግን', 'ጋር', 'ሆኖም', 'ማን', 'ለማን', 'ማነው', 'ማንማን', 'ማንን', 'ከማንኛው', 'ማንኛው', 'በማን', 'ጥቀስ', 'ግለፅ', 'ዘርዝር', 'ጥራ', 'ምን', 'ምንድን', 'የምን', 'ለምን', 'በምን', 'ወይ', 'ይሆን', 'እንደ', 'እንዴት']\n",
      "['?', 'ተብሎ', 'የሚጠራ', 'ሲሆን', 'ይህም', 'ወይም', 'በሌሎች', 'ላይ', 'ነው', 'በ ', 'የ ', 'ከ', 'ሊሆኑ', 'ማለት', 'ይችላሉ', 'ወይ', 'ይችላል', 'በጣም', 'ከመሆን', 'የተነሳ', 'ወደ', 'ሙሉ', 'አይነት', 'ጨምሮ', 'የአንድ', 'አንድ', 'ግለሰብ', 'የሆነ', 'ሁኔታ', 'ውስጥ', 'ናቸው', 'ማለትም', 'የሚገኙ', 'በአደገኛ', 'አደገኛ', 'ወይንም', 'በአንድ', 'እንዲሁም', 'ሲሆን', 'በግዜው', 'ጨምሮ', 'ያሉ', 'ሰዎች', 'በአብዛኛውን', 'ሰው', 'ምንም', 'ሆኖ', 'ከሰው', 'ወደ', 'ከባድ', 'ምንድ', 'ምንድን', 'ምንድነው', 'ምንድናቸው', 'ነው', 'ናቸው', 'ስንል', 'ምን', 'ማለታችን', 'ማለት', 'አለው', 'የምን', 'የያዘው', 'እንዴት', 'የያዘውን', 'ሊሆን', 'የምን', 'በምን', 'የሚችል', 'ማን', 'በተለየ', 'በአብዛኛው', 'የቱን', 'የትኛው', 'እንዴት', 'አይነቶች', 'አለብን', 'ያለብን', 'ከመያዛችን', 'በፊት', 'የመያዝ', 'አጋጣሚን', 'አጋጣሚ', 'እንዳለብን', 'አሉት', 'በሰአቱ', 'በግዜው', 'ሁሉ', 'ሁሉም', 'ሆነ', 'ሆኖም', 'ሁሉንም', 'ማለት', 'ማን', 'ብቻ', 'ነገር', 'ነገሮች', 'ናቸው', 'አሁን', 'አለ', 'እስከ', 'እንኳን', 'እስከ', 'እዚሁ', 'እና', 'እንደ', 'ከ', 'ወዘተ', 'ወይም', 'ዋና', 'ይህ', 'ደግሞ', 'ጋራ', 'ግን', 'ጋር', 'ሆኖም', 'ማን', 'ለማን', 'ማነው', 'ማንማን', 'ማንን', 'ከማንኛው', 'ማንኛው', 'በማን', 'ጥቀስ', 'ግለፅ', 'ዘርዝር', 'ጥራ', 'ምን', 'ምንድን', 'የምን', 'ለምን', 'በምን', 'ወይ', 'ይሆን', 'እንደ', 'እንዴት']\n",
      "ምህንድስና ምንድ ነው? እስኪ ንገረኝ ምን ያህል ነው ጠቃሚ የሆነው?\n",
      "['ምህንድስና እስኪ ንገረኝ ያህል ጠቃሚ የሆነው']\n"
     ]
    }
   ],
   "source": [
    "import pandas as pd\n",
    "import numpy as np\n",
    "import pickle\n",
    "import operator\n",
    "from sklearn.model_selection import train_test_split as tts\n",
    "from sklearn.feature_extraction.text import TfidfVectorizer\n",
    "from sklearn.preprocessing import LabelEncoder as LE\n",
    "from sklearn.metrics.pairwise import cosine_similarity\n",
    "import random\n",
    "import nltk\n",
    "from nltk.stem.lancaster import LancasterStemmer\n",
    "f=open(\"stopwords.txt\",'r',encoding=\"utf-8\")\n",
    "stopword = ['?'] \n",
    "ignore_word=f.read().splitlines()\n",
    "f.close()\n",
    "stopword.extend(ignore_word)\n",
    "print (stopword)\n",
    "print (stopword)\n",
    "\n",
    "stemmer = LancasterStemmer()\n",
    "def normalize(sentence):\n",
    "    text=sentence.replace('ኀ','ሀ').replace('ሐ','ሀ').replace('ሃ','ሀ').replace('ኃ','ሀ').replace('ሓ','ሀ').replace('ኁ','ሁ').replace('ሑ','ሁ').replace('ሒ','ሂ').replace('ኂ','ሂ').replace('ኄ','ሄ').replace('ሔ','ሄ').replace('ሕ','ህ').replace('ኅ','ህ').replace('ሖ','ሆ').replace('ኆ','ሆ').replace('ጸ','ፀ').replace('ጹ','ፁ').replace('ጺ','ፂ').replace('ጻ','ፃ').replace('ጼ','ፄ').replace('ጽ','ፅ').replace('ጾ','ፆ').replace('ቸ,','ቼ').replace('ሸ','ሼ').replace('ዬ','የ').replace('ዉ','ው').replace('ሓ','ሀ').replace('ሠ','ሰ').replace('ሡ','ሱ').replace('ሢ','ሲ').replace('ሣ','ሳ').replace('ሤ','ሴ').replace('ሥ','ስ').replace('ሦ','ሶ').replace('ዐ','አ').replace('ዑ','ኡ').replace('ዒ','ኢ').replace('ዓ','ኣ').replace('ዔ','ኤ').replace('ዕ','እ').replace('ዖ','ኦ').replace('መካኒካል','ሜካኒካል').replace('ኣ','አ').replace('ኣው','አዎ').replace('አው','አዎ').replace('ኢንጂነሪንግ','ምህንድስና').replace('ሰፍትዌር','ሶፍትዌር').replace('ሲስተም','ስይስተም').replace('ከሚካል','ኬሚካል').replace('ደምወዝ','ደሞዝ').replace('ዶሞዝ','ደሞዝ').replace('አርኪተክቸር','አርክተክቸር').replace('ኢሌክትሪካል','ኤሌክትሪካል').replace('ኮምፒተር','ኮምፕዩተር').replace('ሳይነስ','ሳይንስ').replace('ኢንፎርመሽን','ኢንፎርሜሽን').replace('ኢንዱስትርያል','ኢንዳስትሪያል').replace('ኢንዱስትሪያል','ኢንዳስትሪያል').replace('መሃንዲስ','መሀንድስ')\n",
    "    print(text)\n",
    "    return(text)\n",
    "\n",
    "def cleanup(sentence):\n",
    "    sentence_words= normalize(sentence)\n",
    "    \n",
    "    word_tok = nltk.word_tokenize(sentence_words)\n",
    "\n",
    "    stemmed_words = [stemmer.stem(w) for w in word_tok if not w in stopword]\n",
    "    \n",
    "    return ' '.join(stemmed_words)\n",
    "\n",
    "\n",
    "le = LE()\n",
    "tfv = TfidfVectorizer(min_df=1)\n",
    "data = pd.read_csv('data.csv')\n",
    "data.dropna(inplace=True)\n",
    "questions = data['Question'].values\n",
    "question='ምሕንድስና ምንድ ነው? እስኪ ንገረኝ ምን ያህል ነው ጠቃሚ የሆነው?'\n",
    "X = []\n",
    "X.append(cleanup(question))\n",
    "print(X)"
   ]
  },
  {
   "cell_type": "code",
   "execution_count": 5,
   "metadata": {},
   "outputs": [
    {
     "name": "stdout",
     "output_type": "stream",
     "text": [
      "['?', 'ተብሎ', 'የሚጠራ', 'ሲሆን', 'ይህም', 'ወይም', 'በሌሎች', 'ላይ', 'ነው', 'በ ', 'የ ', 'ከ', 'ሊሆኑ', 'ማለት', 'ይችላሉ', 'ወይ', 'ይችላል', 'በጣም', 'ከመሆን', 'የተነሳ', 'ወደ', 'ሙሉ', 'አይነት', 'ጨምሮ', 'የአንድ', 'አንድ', 'ግለሰብ', 'የሆነ', 'ሁኔታ', 'ውስጥ', 'ናቸው', 'ማለትም', 'የሚገኙ', 'በአደገኛ', 'አደገኛ', 'ወይንም', 'በአንድ', 'እንዲሁም', 'ሲሆን', 'በግዜው', 'ጨምሮ', 'ያሉ', 'ሰዎች', 'በአብዛኛውን', 'ሰው', 'ምንም', 'ሆኖ', 'ከሰው', 'ወደ', 'ከባድ', 'ምንድ', 'ምንድን', 'ምንድነው', 'ምንድናቸው', 'ነው', 'ናቸው', 'ስንል', 'ምን', 'ማለታችን', 'ማለት', 'አለው', 'የምን', 'የያዘው', 'እንዴት', 'የያዘውን', 'ሊሆን', 'የምን', 'በምን', 'የሚችል', 'ማን', 'በተለየ', 'በአብዛኛው', 'የቱን', 'የትኛው', 'እንዴት', 'አይነቶች', 'አለብን', 'ያለብን', 'ከመያዛችን', 'በፊት', 'የመያዝ', 'አጋጣሚን', 'አጋጣሚ', 'እንዳለብን', 'አሉት', 'በሰአቱ', 'በግዜው', 'ሁሉ', 'ሁሉም', 'ሆነ', 'ሆኖም', 'ሁሉንም', 'ማለት', 'ማን', 'ብቻ', 'ነገር', 'ነገሮች', 'ናቸው', 'አሁን', 'አለ', 'እስከ', 'እንኳን', 'እስከ', 'እዚሁ', 'እና', 'እንደ', 'ከ', 'ወዘተ', 'ወይም', 'ዋና', 'ይህ', 'ደግሞ', 'ጋራ', 'ግን', 'ጋር', 'ሆኖም', 'ማን', 'ለማን', 'ማነው', 'ማንማን', 'ማንን', 'ከማንኛው', 'ማንኛው', 'በማን', 'ጥቀስ', 'ግለፅ', 'ዘርዝር', 'ጥራ', 'ምን', 'ምንድን', 'የምን', 'ለምን', 'በምን', 'ወይ', 'ይሆን', 'እንደ', 'እንዴት']\n",
      "['?', 'ተብሎ', 'የሚጠራ', 'ሲሆን', 'ይህም', 'ወይም', 'በሌሎች', 'ላይ', 'ነው', 'በ ', 'የ ', 'ከ', 'ሊሆኑ', 'ማለት', 'ይችላሉ', 'ወይ', 'ይችላል', 'በጣም', 'ከመሆን', 'የተነሳ', 'ወደ', 'ሙሉ', 'አይነት', 'ጨምሮ', 'የአንድ', 'አንድ', 'ግለሰብ', 'የሆነ', 'ሁኔታ', 'ውስጥ', 'ናቸው', 'ማለትም', 'የሚገኙ', 'በአደገኛ', 'አደገኛ', 'ወይንም', 'በአንድ', 'እንዲሁም', 'ሲሆን', 'በግዜው', 'ጨምሮ', 'ያሉ', 'ሰዎች', 'በአብዛኛውን', 'ሰው', 'ምንም', 'ሆኖ', 'ከሰው', 'ወደ', 'ከባድ', 'ምንድ', 'ምንድን', 'ምንድነው', 'ምንድናቸው', 'ነው', 'ናቸው', 'ስንል', 'ምን', 'ማለታችን', 'ማለት', 'አለው', 'የምን', 'የያዘው', 'እንዴት', 'የያዘውን', 'ሊሆን', 'የምን', 'በምን', 'የሚችል', 'ማን', 'በተለየ', 'በአብዛኛው', 'የቱን', 'የትኛው', 'እንዴት', 'አይነቶች', 'አለብን', 'ያለብን', 'ከመያዛችን', 'በፊት', 'የመያዝ', 'አጋጣሚን', 'አጋጣሚ', 'እንዳለብን', 'አሉት', 'በሰአቱ', 'በግዜው', 'ሁሉ', 'ሁሉም', 'ሆነ', 'ሆኖም', 'ሁሉንም', 'ማለት', 'ማን', 'ብቻ', 'ነገር', 'ነገሮች', 'ናቸው', 'አሁን', 'አለ', 'እስከ', 'እንኳን', 'እስከ', 'እዚሁ', 'እና', 'እንደ', 'ከ', 'ወዘተ', 'ወይም', 'ዋና', 'ይህ', 'ደግሞ', 'ጋራ', 'ግን', 'ጋር', 'ሆኖም', 'ማን', 'ለማን', 'ማነው', 'ማንማን', 'ማንን', 'ከማንኛው', 'ማንኛው', 'በማን', 'ጥቀስ', 'ግለፅ', 'ዘርዝር', 'ጥራ', 'ምን', 'ምንድን', 'የምን', 'ለምን', 'በምን', 'ወይ', 'ይሆን', 'እንደ', 'እንዴት']\n",
      "SVC test accuracy: 0.48598130841121495\n",
      "SVC train accuracy: 0.8644859813084113\n",
      "\n",
      "\n",
      "MultinomialNB test accuracy: 0.22429906542056074\n",
      "MultinomialNB train accuracy: 0.6799065420560748\n",
      "\n",
      "\n",
      "LogisticRegression test accuracy: 0.37383177570093457\n",
      "LogisticRegression train accuracy: 0.8271028037383178\n",
      "\n",
      "\n",
      "DecisionTreeClassifier test accuracy: 0.4953271028037383\n",
      "DecisionTreeClassifier train accuracy: 1.0\n"
     ]
    }
   ],
   "source": [
    "import pandas as pd\n",
    "import numpy as np\n",
    "import pickle\n",
    "import operator\n",
    "\n",
    "from sklearn.svm import SVC\n",
    "from sklearn.linear_model import LogisticRegression\n",
    "from sklearn.naive_bayes import MultinomialNB\n",
    "from sklearn.tree import DecisionTreeClassifier\n",
    "\n",
    "from sklearn.externals.six import StringIO \n",
    "from sklearn.tree import export_graphviz\n",
    "#import pydotplus\n",
    "\n",
    "from sklearn.model_selection import train_test_split as tts\n",
    "from sklearn.feature_extraction.text import TfidfVectorizer\n",
    "from sklearn.preprocessing import LabelEncoder as LE\n",
    "from sklearn.metrics.pairwise import cosine_similarity\n",
    "import random\n",
    "import nltk\n",
    "from nltk.stem.lancaster import LancasterStemmer\n",
    "\n",
    "f=open(\"stopwords.txt\",'r',encoding=\"utf-8\")\n",
    "stopword = ['?'] \n",
    "ignore_word=f.read().splitlines()\n",
    "f.close()\n",
    "stopword.extend(ignore_word)\n",
    "print (stopword)\n",
    "print (stopword)\n",
    "\n",
    "stemmer = LancasterStemmer()\n",
    "def normalize(sentence):\n",
    "    text=sentence.replace('ኀ','ሀ').replace('ሐ','ሀ').replace('ሃ','ሀ').replace('ኃ','ሀ').replace('ሓ','ሀ').replace('ኁ','ሁ').replace('ሑ','ሁ').replace('ሒ','ሂ').replace('ኂ','ሂ').replace('ኄ','ሄ').replace('ሔ','ሄ').replace('ሕ','ህ').replace('ኅ','ህ').replace('ሖ','ሆ').replace('ኆ','ሆ').replace('ጸ','ፀ').replace('ጹ','ፁ').replace('ጺ','ፂ').replace('ጻ','ፃ').replace('ጼ','ፄ').replace('ጽ','ፅ').replace('ጾ','ፆ').replace('ቸ,','ቼ').replace('ሸ','ሼ').replace('ዬ','የ').replace('ዉ','ው').replace('ሓ','ሀ').replace('ሠ','ሰ').replace('ሡ','ሱ').replace('ሢ','ሲ').replace('ሣ','ሳ').replace('ሤ','ሴ').replace('ሥ','ስ').replace('ሦ','ሶ').replace('ዐ','አ').replace('ዑ','ኡ').replace('ዒ','ኢ').replace('ዓ','ኣ').replace('ዔ','ኤ').replace('ዕ','እ').replace('ዖ','ኦ').replace('መካኒካል','ሜካኒካል').replace('ኣ','አ').replace('ኣው','አዎ').replace('አው','አዎ').replace('ኢንጂነሪንግ','ምህንድስና').replace('ሰፍትዌር','ሶፍትዌር').replace('ሲስተም','ስይስተም').replace('ከሚካል','ኬሚካል').replace('ደምወዝ','ደሞዝ').replace('ዶሞዝ','ደሞዝ').replace('አርኪተክቸር','አርክተክቸር').replace('ኢሌክትሪካል','ኤሌክትሪካል').replace('ኮምፒተር','ኮምፕዩተር').replace('ሳይነስ','ሳይንስ').replace('ኢንፎርመሽን','ኢንፎርሜሽን').replace('ኢንዱስትርያል','ኢንዳስትሪያል').replace('ኢንዱስትሪያል','ኢንዳስትሪያል').replace('መሃንዲስ','መሀንድስ')\n",
    "\n",
    "    return(text)\n",
    "\n",
    "\n",
    "def cleanup(sentence):\n",
    "    sentence_words= normalize(sentence)\n",
    "    \n",
    "    word_tok = nltk.word_tokenize(sentence_words)\n",
    "\n",
    "    stemmed_words = [stemmer.stem(w) for w in word_tok if not w in stopword]\n",
    "    \n",
    "    return ' '.join(stemmed_words)\n",
    "\n",
    "\n",
    "le = LE()\n",
    "\n",
    "tfv = TfidfVectorizer(min_df=1,)\n",
    "\n",
    "data = pd.read_csv('data.csv')\n",
    "data.dropna(inplace=True)\n",
    "questions = data['Question'].values\n",
    "\n",
    "X = []\n",
    "for question in questions:\n",
    "    X.append(cleanup(question))\n",
    "\n",
    "tfv.fit(X)\n",
    "le.fit(data['Class'])\n",
    "\n",
    "X = tfv.transform(X)\n",
    "y = le.transform(data['Class'])\n",
    "\n",
    "\n",
    "trainx, testx, trainy, testy = tts(X, y, test_size=.2, random_state=42)\n",
    "\n",
    "model = SVC(kernel='linear')\n",
    "model.fit(trainx, trainy)\n",
    "\n",
    "model1 = LogisticRegression()\n",
    "model1.fit(trainx, trainy)\n",
    "\n",
    "model2 = MultinomialNB()\n",
    "model2.fit(trainx, trainy)\n",
    "\n",
    "model3 = DecisionTreeClassifier()\n",
    "model3.fit(trainx, trainy)\n",
    "\n",
    "print(\"SVC test accuracy:\", model.score(testx, testy))\n",
    "print(\"SVC train accuracy:\", model.score(trainx, trainy))\n",
    "print(\"\\n\")\n",
    "print(\"MultinomialNB test accuracy:\", model2.score(testx, testy))\n",
    "print(\"MultinomialNB train accuracy:\", model2.score(trainx, trainy))\n",
    "print(\"\\n\")\n",
    "print(\"LogisticRegression test accuracy:\", model1.score(testx, testy))\n",
    "print(\"LogisticRegression train accuracy:\", model1.score(trainx, trainy))\n",
    "print(\"\\n\")\n",
    "print(\"DecisionTreeClassifier test accuracy:\", model3.score(testx, testy))\n",
    "print(\"DecisionTreeClassifier train accuracy:\", model3.score(trainx, trainy))"
   ]
  },
  {
   "cell_type": "code",
   "execution_count": 6,
   "metadata": {},
   "outputs": [
    {
     "name": "stdout",
     "output_type": "stream",
     "text": [
      "LogisticRegression classifier result\n",
      "\n",
      "Accuracy: 37.383%\n",
      "F1 Score: 30.31%\n",
      "Precision Score: 30.33%\n",
      "Recall Score: 34.10%\n",
      "\n",
      "MultinomialNB classifier result\n",
      "Accuracy: 22.430%\n",
      "F1 Score: 18.08%\n",
      "Precision Score: 18.14%\n",
      "Recall Score: 20.59%\n",
      "\n",
      "DecisionTreeClassifier result\n",
      "Accuracy: 49.533%\n",
      "F1 Score: 37.43%\n",
      "Precision Score: 38.17%\n",
      "Recall Score: 41.77%\n",
      "\n",
      "SVM Classifier result\n",
      "Accuracy: 48.60%\n",
      "F1 Score: 38.71%\n",
      "Precision Score: 38.21%\n",
      "Recall Score: 42.46%\n"
     ]
    },
    {
     "name": "stderr",
     "output_type": "stream",
     "text": [
      "C:\\Users\\GoitoM\\.conda\\envs\\chatbot\\lib\\site-packages\\sklearn\\metrics\\classification.py:1135: UndefinedMetricWarning: F-score is ill-defined and being set to 0.0 in labels with no predicted samples.\n",
      "  'precision', 'predicted', average, warn_for)\n",
      "C:\\Users\\GoitoM\\.conda\\envs\\chatbot\\lib\\site-packages\\sklearn\\metrics\\classification.py:1137: UndefinedMetricWarning: F-score is ill-defined and being set to 0.0 in labels with no true samples.\n",
      "  'recall', 'true', average, warn_for)\n",
      "C:\\Users\\GoitoM\\.conda\\envs\\chatbot\\lib\\site-packages\\sklearn\\metrics\\classification.py:1135: UndefinedMetricWarning: Precision is ill-defined and being set to 0.0 in labels with no predicted samples.\n",
      "  'precision', 'predicted', average, warn_for)\n",
      "C:\\Users\\GoitoM\\.conda\\envs\\chatbot\\lib\\site-packages\\sklearn\\metrics\\classification.py:1137: UndefinedMetricWarning: Recall is ill-defined and being set to 0.0 in labels with no true samples.\n",
      "  'recall', 'true', average, warn_for)\n"
     ]
    }
   ],
   "source": [
    "from sklearn.metrics import accuracy_score, f1_score, precision_score, recall_score, classification_report, confusion_matrix\n",
    "\n",
    "#model = LogisticRegression()\n",
    "#model.fit(X_train, y_train)\n",
    "\n",
    "print(\"LogisticRegression classifier result\\n\")\n",
    "result = model1.score(testx, testy)\n",
    "print(\"Accuracy: %.3f%%\" % (result*100.0))\n",
    "y_pred = model1.predict(testx)\n",
    "\n",
    "f1=f1_score(testy, y_pred, average=\"macro\")\n",
    "precision=precision_score(testy, y_pred, average=\"macro\")\n",
    "recall=recall_score(testy, y_pred, average=\"macro\")\n",
    "#y_pred = model.predict(testx)\n",
    "print(\"F1 Score: %.2f%%\" % (f1*100))\n",
    "print(\"Precision Score: %.2f%%\" % (precision*100)) \n",
    "print(\"Recall Score: %.2f%%\" % (recall*100))\n",
    "\n",
    "print(\"\\nMultinomialNB classifier result\")\n",
    "result = model2.score(testx, testy)\n",
    "print(\"Accuracy: %.3f%%\" % (result*100.0))\n",
    "y_pred = model2.predict(testx)\n",
    "\n",
    "f1=f1_score(testy, y_pred, average=\"macro\")\n",
    "precision=precision_score(testy, y_pred, average=\"macro\")\n",
    "recall=recall_score(testy, y_pred, average=\"macro\")\n",
    "#y_pred = model.predict(testx)\n",
    "print(\"F1 Score: %.2f%%\" % (f1*100))\n",
    "print(\"Precision Score: %.2f%%\" % (precision*100)) \n",
    "print(\"Recall Score: %.2f%%\" % (recall*100))\n",
    "\n",
    "print(\"\\nDecisionTreeClassifier result\")\n",
    "\n",
    "result = model3.score(testx, testy)\n",
    "print(\"Accuracy: %.3f%%\" % (result*100.0))\n",
    "y_pred = model3.predict(testx)\n",
    "\n",
    "f1=f1_score(testy, y_pred, average=\"macro\")\n",
    "precision=precision_score(testy, y_pred, average=\"macro\")\n",
    "recall=recall_score(testy, y_pred, average=\"macro\")\n",
    "#y_pred = model.predict(testx)\n",
    "print(\"F1 Score: %.2f%%\" % (f1*100))\n",
    "print(\"Precision Score: %.2f%%\" % (precision*100)) \n",
    "print(\"Recall Score: %.2f%%\" % (recall*100)) \n",
    "\n",
    "print(\"\\nSVM Classifier result\")\n",
    "\n",
    "result = model.score(testx, testy)\n",
    "print(\"Accuracy: %.2f%%\" % (result*100.0))\n",
    "y_pred = model.predict(testx)\n",
    "\n",
    "\n",
    "f1=f1_score(testy, y_pred, average=\"macro\")\n",
    "precision=precision_score(testy, y_pred, average=\"macro\")\n",
    "recall=recall_score(testy, y_pred, average=\"macro\")\n",
    "#y_pred = model.predict(testx)\n",
    "print(\"F1 Score: %.2f%%\" % (f1*100))\n",
    "print(\"Precision Score: %.2f%%\" % (precision*100)) \n",
    "print(\"Recall Score: %.2f%%\" % (recall*100))\n"
   ]
  },
  {
   "cell_type": "code",
   "execution_count": 5,
   "metadata": {
    "scrolled": true
   },
   "outputs": [
    {
     "name": "stderr",
     "output_type": "stream",
     "text": [
      "C:\\Users\\GoitoM\\.conda\\envs\\chatbot\\lib\\site-packages\\ipykernel_launcher.py:29: RuntimeWarning: invalid value encountered in true_divide\n"
     ]
    },
    {
     "data": {
      "text/plain": [
       "<Figure size 4000x3000 with 2 Axes>"
      ]
     },
     "metadata": {},
     "output_type": "display_data"
    }
   ],
   "source": [
    "import numpy as np\n",
    "import pandas as pd\n",
    "import matplotlib.pyplot as plt\n",
    "import seaborn as sns\n",
    "from sklearn.metrics import confusion_matrix\n",
    "\n",
    "def cm_analysis(y_true, y_pred, labels, ymap=None, figsize=(10,10)):\n",
    "    \"\"\"\n",
    "    Generate matrix plot of confusion matrix with pretty annotations.\n",
    "    The plot image is saved to disk.\n",
    "    args: \n",
    "      y_true:    true label of the data, with shape (nsamples,)\n",
    "      y_pred:    prediction of the data, with shape (nsamples,)\n",
    "      filename:  filename of figure file to save\n",
    "      labels:    string array, name the order of class labels in the confusion matrix.\n",
    "                 use `clf.classes_` if using scikit-learn models.\n",
    "                 with shape (nclass,).\n",
    "      ymap:      dict: any -> string, length == nclass.\n",
    "                 if not None, map the labels & ys to more understandable strings.\n",
    "                 Caution: original y_true, y_pred and labels must align.\n",
    "      figsize:   the size of the figure plotted.\n",
    "    \"\"\"\n",
    "    if ymap is not None:\n",
    "        y_pred = [ymap[yi] for yi in y_pred]\n",
    "        y_true = [ymap[yi] for yi in y_true]\n",
    "        labels = [ymap[yi] for yi in labels]\n",
    "    cm = confusion_matrix(y_true, y_pred, labels=labels)\n",
    "    cm_sum = np.sum(cm, axis=1, keepdims=True)\n",
    "    cm_perc = cm / cm_sum.astype(float) * 100\n",
    "    annot = np.empty_like(cm).astype(str)\n",
    "    nrows, ncols = cm.shape\n",
    "    for i in range(nrows):\n",
    "        for j in range(ncols):\n",
    "            c = cm[i, j]\n",
    "            p = cm_perc[i, j]\n",
    "            if i == j:\n",
    "                s = cm_sum[i]\n",
    "                annot[i, j] = '%.1f%%\\n%d/%d' % (p, c, s)\n",
    "            elif c == 0:\n",
    "                annot[i, j] = ''\n",
    "            else:\n",
    "                annot[i, j] = '%.1f%%\\n%d' % (p, c)\n",
    "    cm = pd.DataFrame(cm, index=labels, columns=labels)\n",
    "    cm.index.name = 'Actual'\n",
    "    cm.columns.name = 'Predicted'\n",
    "    fig, ax = plt.subplots(figsize=figsize)\n",
    "    sns.heatmap(cm, annot=annot, fmt='', ax=ax)\n",
    "    #plt.savefig(filename)\n",
    "    plt.show()\n",
    "\n",
    "cm_analysis(testy, y_pred, model3.classes_, ymap=None, figsize=(40,30))"
   ]
  },
  {
   "cell_type": "code",
   "execution_count": 6,
   "metadata": {
    "collapsed": true
   },
   "outputs": [
    {
     "name": "stderr",
     "output_type": "stream",
     "text": [
      "C:\\Users\\GoitoM\\.conda\\envs\\chatbot\\lib\\site-packages\\sklearn\\cross_validation.py:41: DeprecationWarning: This module was deprecated in version 0.18 in favor of the model_selection module into which all the refactored classes and functions are moved. Also note that the interface of the new CV iterators are different from that of this module. This module will be removed in 0.20.\n",
      "  \"This module will be removed in 0.20.\", DeprecationWarning)\n"
     ]
    },
    {
     "name": "stdout",
     "output_type": "stream",
     "text": [
      "[111]\n",
      "[16]\n",
      "[98]\n",
      "[74]\n",
      "[17]\n",
      "[5]\n",
      "[17]\n",
      "[58]\n",
      "[12]\n",
      "[45]\n",
      "[82]\n",
      "[33]\n",
      "[2]\n",
      "[81]\n",
      "[74]\n",
      "[58]\n",
      "[11]\n",
      "[7]\n",
      "[24]\n",
      "[62]\n",
      "[17]\n",
      "[38]\n",
      "[102]\n",
      "[85]\n",
      "[17]\n",
      "[36]\n",
      "[26]\n",
      "[12]\n",
      "[39]\n",
      "[11]\n",
      "[30]\n",
      "[59]\n",
      "[11]\n",
      "[5]\n",
      "[11]\n",
      "[52]\n",
      "[39]\n",
      "[17]\n",
      "[56]\n",
      "[82]\n",
      "[93]\n",
      "[94]\n",
      "[1]\n",
      "[0]\n",
      "[56]\n",
      "[3]\n",
      "[17]\n",
      "[35]\n",
      "[24]\n",
      "[103]\n",
      "[21]\n",
      "[91]\n",
      "[84]\n",
      "[84]\n",
      "[56]\n",
      "[46]\n",
      "[21]\n",
      "[103]\n",
      "[23]\n",
      "[4]\n",
      "[75]\n",
      "[17]\n",
      "[82]\n",
      "[11]\n",
      "[11]\n",
      "[65]\n",
      "[95]\n",
      "[74]\n",
      "[56]\n",
      "[35]\n",
      "[14]\n",
      "[69]\n",
      "[17]\n",
      "[92]\n",
      "[12]\n",
      "[3]\n",
      "[90]\n",
      "[67]\n",
      "[84]\n",
      "[11]\n",
      "[12]\n",
      "[62]\n",
      "[17]\n",
      "[17]\n",
      "[91]\n",
      "[83]\n",
      "[62]\n",
      "[27]\n",
      "[17]\n",
      "[14]\n",
      "[59]\n",
      "[77]\n",
      "[82]\n",
      "[22]\n",
      "[2]\n",
      "[1]\n",
      "[84]\n",
      "[98]\n",
      "[33]\n",
      "[73]\n",
      "[98]\n",
      "[92]\n",
      "[2]\n",
      "[48]\n",
      "[53]\n",
      "[31]\n",
      "[53]\n",
      "[array([111], dtype=int64), array([16], dtype=int64), array([98], dtype=int64), array([74], dtype=int64), array([17], dtype=int64), array([5], dtype=int64), array([17], dtype=int64), array([58], dtype=int64), array([12], dtype=int64), array([45], dtype=int64), array([82], dtype=int64), array([33], dtype=int64), array([2], dtype=int64), array([81], dtype=int64), array([74], dtype=int64), array([58], dtype=int64), array([11], dtype=int64), array([7], dtype=int64), array([24], dtype=int64), array([62], dtype=int64), array([17], dtype=int64), array([38], dtype=int64), array([102], dtype=int64), array([85], dtype=int64), array([17], dtype=int64), array([36], dtype=int64), array([26], dtype=int64), array([12], dtype=int64), array([39], dtype=int64), array([11], dtype=int64), array([30], dtype=int64), array([59], dtype=int64), array([11], dtype=int64), array([5], dtype=int64), array([11], dtype=int64), array([52], dtype=int64), array([39], dtype=int64), array([17], dtype=int64), array([56], dtype=int64), array([82], dtype=int64), array([93], dtype=int64), array([94], dtype=int64), array([1], dtype=int64), array([0], dtype=int64), array([56], dtype=int64), array([3], dtype=int64), array([17], dtype=int64), array([35], dtype=int64), array([24], dtype=int64), array([103], dtype=int64), array([21], dtype=int64), array([91], dtype=int64), array([84], dtype=int64), array([84], dtype=int64), array([56], dtype=int64), array([46], dtype=int64), array([21], dtype=int64), array([103], dtype=int64), array([23], dtype=int64), array([4], dtype=int64), array([75], dtype=int64), array([17], dtype=int64), array([82], dtype=int64), array([11], dtype=int64), array([11], dtype=int64), array([65], dtype=int64), array([95], dtype=int64), array([74], dtype=int64), array([56], dtype=int64), array([35], dtype=int64), array([14], dtype=int64), array([69], dtype=int64), array([17], dtype=int64), array([92], dtype=int64), array([12], dtype=int64), array([3], dtype=int64), array([90], dtype=int64), array([67], dtype=int64), array([84], dtype=int64), array([11], dtype=int64), array([12], dtype=int64), array([62], dtype=int64), array([17], dtype=int64), array([17], dtype=int64), array([91], dtype=int64), array([83], dtype=int64), array([62], dtype=int64), array([27], dtype=int64), array([17], dtype=int64), array([14], dtype=int64), array([59], dtype=int64), array([77], dtype=int64), array([82], dtype=int64), array([22], dtype=int64), array([2], dtype=int64), array([1], dtype=int64), array([84], dtype=int64), array([98], dtype=int64), array([33], dtype=int64), array([73], dtype=int64), array([98], dtype=int64), array([92], dtype=int64), array([2], dtype=int64), array([48], dtype=int64), array([53], dtype=int64), array([31], dtype=int64), array([53], dtype=int64)]\n",
      "[111  16  97  80 113   6  17  64  12 112 109  29   2  78  74  58  30   7\n",
      "  23  61  43  42 102  85  17  36  26  12  36  18  32  59  26   5  11  22\n",
      "  38 113   0  16  93  94   1   0   0   3  43  35  23 103  23  90  84  84\n",
      "   0 103  24 103  72   4  80  13 109  29  32  61  95  74   0  37  14  69\n",
      "  57  93  55   3  88  67  90 106  25  64  17  43  88  99  65  27  56  56\n",
      "  59  80  44  22   2  45  84  98  27  73 104  92   2  48  54  31  51]\n",
      "[[1 0 0 ... 0 0 0]\n",
      " [0 1 0 ... 0 0 0]\n",
      " [0 0 3 ... 0 0 0]\n",
      " ...\n",
      " [0 0 0 ... 1 0 0]\n",
      " [0 0 0 ... 0 0 0]\n",
      " [0 0 0 ... 0 0 0]]\n"
     ]
    }
   ],
   "source": [
    "### Checking Accuracy of the Classifier\n",
    "from sklearn.cross_validation import train_test_split\n",
    "from sklearn.metrics import confusion_matrix\n",
    "\n",
    "#X_train, X_test, Y_train, Y_test = train_test_split(data[\"question\"], data[\"answer\"], random_state=0)\n",
    "\n",
    "Y_pred=[]\n",
    "for i in testx:\n",
    "    prediction=model3.predict(i)\n",
    "    print(prediction)\n",
    "    Y_pred.append(prediction)\n",
    "print (Y_pred)\n",
    "print (testy)\n",
    "cnf_matrix = confusion_matrix(testy,Y_pred)\n",
    "print (cnf_matrix)"
   ]
  },
  {
   "cell_type": "code",
   "execution_count": 7,
   "metadata": {},
   "outputs": [
    {
     "name": "stdout",
     "output_type": "stream",
     "text": [
      "[[1 0 0 ... 0 0 0]\n",
      " [0 1 0 ... 0 0 0]\n",
      " [0 0 3 ... 0 0 0]\n",
      " ...\n",
      " [0 0 0 ... 1 0 0]\n",
      " [0 0 0 ... 0 0 0]\n",
      " [0 0 0 ... 0 0 0]]\n"
     ]
    },
    {
     "data": {
      "image/png": "[encoded data removed]",
      "text/plain": [
       "<Figure size 432x288 with 2 Axes>"
      ]
     },
     "metadata": {},
     "output_type": "display_data"
    }
   ],
   "source": [
    "import numpy as np\n",
    "import itertools\n",
    "import matplotlib.pyplot as plt\n",
    "def plot_confusion_matrix(cm, classes,\n",
    "                          title='Confusion matrix',\n",
    "                          cmap=plt.cm.Blues):\n",
    "\n",
    "    print(cm)\n",
    "\n",
    "    plt.imshow(cm, interpolation='nearest', cmap=cmap)\n",
    "    plt.title(title)\n",
    "    plt.colorbar()\n",
    "    fmt = '.2f'\n",
    "    thresh = cm.max() / 2.\n",
    "    for i, j in itertools.product(range(cm.shape[0]), range(cm.shape[1])):\n",
    "        plt.text(j, i, format(cm[i, j], fmt),\n",
    "                 horizontalalignment=\"center\",\n",
    "                 color=\"white\" if cm[i, j] > thresh else \"black\")\n",
    "\n",
    "    plt.ylabel('True label')\n",
    "    plt.xlabel('Predicted label')\n",
    "    plt.tight_layout()\n",
    "    plt.show()\n",
    "plot_confusion_matrix(cnf_matrix, classes=[\"+\",\"-\"],title='Confusion matrix')"
   ]
  },
  {
   "cell_type": "code",
   "execution_count": 51,
   "metadata": {
    "collapsed": true
   },
   "outputs": [
    {
     "name": "stdout",
     "output_type": "stream",
     "text": [
      "<pydotplus.graphviz.Dot object at 0x000002A73FC8BDA0>\n"
     ]
    },
    {
     "ename": "InvocationException",
     "evalue": "Program terminated with status: 3221225477. stderr follows: []",
     "output_type": "error",
     "traceback": [
      "\u001b[1;31m---------------------------------------------------------------------------\u001b[0m",
      "\u001b[1;31mInvocationException\u001b[0m                       Traceback (most recent call last)",
      "\u001b[1;32m<ipython-input-51-7f1ec91338fc>\u001b[0m in \u001b[0;36m<module>\u001b[1;34m\u001b[0m\n\u001b[0;32m      9\u001b[0m \u001b[1;32mfrom\u001b[0m \u001b[0mIPython\u001b[0m\u001b[1;33m.\u001b[0m\u001b[0mdisplay\u001b[0m \u001b[1;32mimport\u001b[0m \u001b[0mImage\u001b[0m\u001b[1;33m\u001b[0m\u001b[1;33m\u001b[0m\u001b[0m\n\u001b[0;32m     10\u001b[0m \u001b[1;33m\u001b[0m\u001b[0m\n\u001b[1;32m---> 11\u001b[1;33m \u001b[0mImage\u001b[0m\u001b[1;33m(\u001b[0m\u001b[0mgraph\u001b[0m\u001b[1;33m.\u001b[0m\u001b[0mcreate_png\u001b[0m\u001b[1;33m(\u001b[0m\u001b[1;33m)\u001b[0m\u001b[1;33m)\u001b[0m\u001b[1;33m\u001b[0m\u001b[1;33m\u001b[0m\u001b[0m\n\u001b[0m",
      "\u001b[1;32m~\\.conda\\envs\\FAQ_chatbot\\lib\\site-packages\\pydotplus\\graphviz.py\u001b[0m in \u001b[0;36m<lambda>\u001b[1;34m(f, prog)\u001b[0m\n\u001b[0;32m   1795\u001b[0m             self.__setattr__(\n\u001b[0;32m   1796\u001b[0m                 \u001b[1;34m'create_'\u001b[0m \u001b[1;33m+\u001b[0m \u001b[0mfrmt\u001b[0m\u001b[1;33m,\u001b[0m\u001b[1;33m\u001b[0m\u001b[1;33m\u001b[0m\u001b[0m\n\u001b[1;32m-> 1797\u001b[1;33m                 \u001b[1;32mlambda\u001b[0m \u001b[0mf\u001b[0m\u001b[1;33m=\u001b[0m\u001b[0mfrmt\u001b[0m\u001b[1;33m,\u001b[0m \u001b[0mprog\u001b[0m\u001b[1;33m=\u001b[0m\u001b[0mself\u001b[0m\u001b[1;33m.\u001b[0m\u001b[0mprog\u001b[0m\u001b[1;33m:\u001b[0m \u001b[0mself\u001b[0m\u001b[1;33m.\u001b[0m\u001b[0mcreate\u001b[0m\u001b[1;33m(\u001b[0m\u001b[0mformat\u001b[0m\u001b[1;33m=\u001b[0m\u001b[0mf\u001b[0m\u001b[1;33m,\u001b[0m \u001b[0mprog\u001b[0m\u001b[1;33m=\u001b[0m\u001b[0mprog\u001b[0m\u001b[1;33m)\u001b[0m\u001b[1;33m\u001b[0m\u001b[1;33m\u001b[0m\u001b[0m\n\u001b[0m\u001b[0;32m   1798\u001b[0m             )\n\u001b[0;32m   1799\u001b[0m             \u001b[0mf\u001b[0m \u001b[1;33m=\u001b[0m \u001b[0mself\u001b[0m\u001b[1;33m.\u001b[0m\u001b[0m__dict__\u001b[0m\u001b[1;33m[\u001b[0m\u001b[1;34m'create_'\u001b[0m \u001b[1;33m+\u001b[0m \u001b[0mfrmt\u001b[0m\u001b[1;33m]\u001b[0m\u001b[1;33m\u001b[0m\u001b[1;33m\u001b[0m\u001b[0m\n",
      "\u001b[1;32m~\\.conda\\envs\\FAQ_chatbot\\lib\\site-packages\\pydotplus\\graphviz.py\u001b[0m in \u001b[0;36mcreate\u001b[1;34m(self, prog, format)\u001b[0m\n\u001b[0;32m   2030\u001b[0m             raise InvocationException(\n\u001b[0;32m   2031\u001b[0m                 'Program terminated with status: %d. stderr follows: %s' % (\n\u001b[1;32m-> 2032\u001b[1;33m                     status, stderr_output))\n\u001b[0m\u001b[0;32m   2033\u001b[0m         \u001b[1;32melif\u001b[0m \u001b[0mstderr_output\u001b[0m\u001b[1;33m:\u001b[0m\u001b[1;33m\u001b[0m\u001b[1;33m\u001b[0m\u001b[0m\n\u001b[0;32m   2034\u001b[0m             \u001b[0mprint\u001b[0m\u001b[1;33m(\u001b[0m\u001b[0mstderr_output\u001b[0m\u001b[1;33m)\u001b[0m\u001b[1;33m\u001b[0m\u001b[1;33m\u001b[0m\u001b[0m\n",
      "\u001b[1;31mInvocationException\u001b[0m: Program terminated with status: 3221225477. stderr follows: []"
     ]
    }
   ],
   "source": [
    "dot_data = StringIO()\n",
    "export_graphviz(model3, out_file=dot_data,  \n",
    "                filled=True, rounded=True,\n",
    "                special_characters=True)\n",
    "graph = pydotplus.graph_from_dot_data(dot_data.getvalue())\n",
    "\n",
    "print (graph)\n",
    "graph.write_pdf(\"iris.pdf\")\n",
    "from IPython.display import Image\n",
    "\n",
    "Image(graph.create_png())"
   ]
  },
  {
   "cell_type": "code",
   "execution_count": 8,
   "metadata": {},
   "outputs": [
    {
     "name": "stdout",
     "output_type": "stream",
     "text": [
      "Bot: Hi, Welcome to our bank!\n",
      "You: hi\n"
     ]
    },
    {
     "name": "stderr",
     "output_type": "stream",
     "text": [
      "C:\\Users\\GoitoM\\.conda\\envs\\chatbot\\lib\\site-packages\\sklearn\\preprocessing\\label.py:151: DeprecationWarning: The truth value of an empty array is ambiguous. Returning False, but in future this will result in an error. Use `array.size > 0` to check that an array is not empty.\n",
      "  if diff:\n"
     ]
    },
    {
     "name": "stdout",
     "output_type": "stream",
     "text": [
      "[[0.]]\n",
      "FAQBot: ይቅርታ በደምብ አልገባኝም\n",
      "You: ሰላም\n"
     ]
    },
    {
     "name": "stderr",
     "output_type": "stream",
     "text": [
      "C:\\Users\\GoitoM\\.conda\\envs\\chatbot\\lib\\site-packages\\sklearn\\preprocessing\\label.py:151: DeprecationWarning: The truth value of an empty array is ambiguous. Returning False, but in future this will result in an error. Use `array.size > 0` to check that an array is not empty.\n",
      "  if diff:\n"
     ]
    },
    {
     "name": "stdout",
     "output_type": "stream",
     "text": [
      "[[1.]]\n",
      "FAQBot: ሰላማት ምን ላግዛቹ\n",
      "You: ምህንድስና ምንድ ነው\n"
     ]
    },
    {
     "name": "stderr",
     "output_type": "stream",
     "text": [
      "C:\\Users\\GoitoM\\.conda\\envs\\chatbot\\lib\\site-packages\\sklearn\\preprocessing\\label.py:151: DeprecationWarning: The truth value of an empty array is ambiguous. Returning False, but in future this will result in an error. Use `array.size > 0` to check that an array is not empty.\n",
      "  if diff:\n"
     ]
    },
    {
     "name": "stdout",
     "output_type": "stream",
     "text": [
      "[[1.]]\n",
      "FAQBot: በመተርጎሚያ ላይ በፍልስፍና ውስጥ የሳይንስና የሂሳብ ተግባራዊ ትግበራ ተብሏል። በሳይንስ (በሂሳብ እርዳታ) ወደ ህይወት ተግባራዊ ፣ ተጨባጭ የዓለም ነገሮች የሚያሳይ ነው።ስለዚህ በትክክለኛ እውነታ, ምህንድስና የተተገበረ ሳይንስ ነው።\n",
      "You: ኬሚካል ምህንድስና\n"
     ]
    },
    {
     "name": "stderr",
     "output_type": "stream",
     "text": [
      "C:\\Users\\GoitoM\\.conda\\envs\\chatbot\\lib\\site-packages\\sklearn\\preprocessing\\label.py:151: DeprecationWarning: The truth value of an empty array is ambiguous. Returning False, but in future this will result in an error. Use `array.size > 0` to check that an array is not empty.\n",
      "  if diff:\n"
     ]
    },
    {
     "name": "stdout",
     "output_type": "stream",
     "text": [
      "[[0.69547639]]\n",
      "FAQBot: ተግባራዊ ችግሮችን ለመፍታት ወይም ጠቃሚ ምርቶችን ለማምረት ኬሚካዊ ግብረመልሶችን የሚፈጽሙ ማሽኖች እና የዕፅዋቶች ዲዛይን ፣ ግንባታ እና አሠራር የሚመለከተው የምህንድስና ቅርንጫፍ ነው ፡፡\n",
      "You: ፈተና \n"
     ]
    },
    {
     "name": "stderr",
     "output_type": "stream",
     "text": [
      "C:\\Users\\GoitoM\\.conda\\envs\\chatbot\\lib\\site-packages\\sklearn\\preprocessing\\label.py:151: DeprecationWarning: The truth value of an empty array is ambiguous. Returning False, but in future this will result in an error. Use `array.size > 0` to check that an array is not empty.\n",
      "  if diff:\n"
     ]
    },
    {
     "name": "stdout",
     "output_type": "stream",
     "text": [
      "[[0.57607179]]\n",
      "FAQBot: ይቅርታ አልገባኝም አስተካክለህ ፃፈው። እንደመሰለኝ ከሆነ ግን እንዲህ ነው: \n",
      "\n",
      "ተማሪው በሆስፒታል መተኛት ወይም አደጋዎች ፣ ሥነ ልቦናዊ ችግሮች ፣ በወሊድ ምክንያት ወዘተ ያሉ ሁኔታዎችን በፈተና ካልነበረ ፈተናው ለመፈተን ከቀጣዩ ሴሚስተር ትምህርት ከጀመረ በኋላ በአንድ ሳምንት ውስጥ ከሚከተሉት ሰነዶች አንዱን ማቅረብ አለበት-1. ለሕክምና እና ለሥነ ልቦና ችግሮች የህክምና የምስክር ወረቀቶች ፣ 2. ከሌሎች ማህበራዊ ችግሮች በፍርድ ቤት የተረጋገጠ ሰነዶች; 3. በሌሎች ምክንያቶች የተነሳ ከሆነ ከሚመለከታቸው የመንግሥት ቢሮዎች የተረጋገጠ ሰነድ፡፡\n",
      "You: ፈተና አለምፈተን\n"
     ]
    },
    {
     "name": "stderr",
     "output_type": "stream",
     "text": [
      "C:\\Users\\GoitoM\\.conda\\envs\\chatbot\\lib\\site-packages\\sklearn\\preprocessing\\label.py:151: DeprecationWarning: The truth value of an empty array is ambiguous. Returning False, but in future this will result in an error. Use `array.size > 0` to check that an array is not empty.\n",
      "  if diff:\n"
     ]
    },
    {
     "name": "stdout",
     "output_type": "stream",
     "text": [
      "[[0.57607179]]\n",
      "FAQBot: ይቅርታ አልገባኝም አስተካክለህ ፃፈው። እንደመሰለኝ ከሆነ ግን እንዲህ ነው: \n",
      "\n",
      "ተማሪው በሆስፒታል መተኛት ወይም አደጋዎች ፣ ሥነ ልቦናዊ ችግሮች ፣ በወሊድ ምክንያት ወዘተ ያሉ ሁኔታዎችን በፈተና ካልነበረ ፈተናው ለመፈተን ከቀጣዩ ሴሚስተር ትምህርት ከጀመረ በኋላ በአንድ ሳምንት ውስጥ ከሚከተሉት ሰነዶች አንዱን ማቅረብ አለበት-1. ለሕክምና እና ለሥነ ልቦና ችግሮች የህክምና የምስክር ወረቀቶች ፣ 2. ከሌሎች ማህበራዊ ችግሮች በፍርድ ቤት የተረጋገጠ ሰነዶች; 3. በሌሎች ምክንያቶች የተነሳ ከሆነ ከሚመለከታቸው የመንግሥት ቢሮዎች የተረጋገጠ ሰነድ፡፡\n",
      "You: ኢንዴት ነህ\n"
     ]
    },
    {
     "name": "stderr",
     "output_type": "stream",
     "text": [
      "C:\\Users\\GoitoM\\.conda\\envs\\chatbot\\lib\\site-packages\\sklearn\\preprocessing\\label.py:151: DeprecationWarning: The truth value of an empty array is ambiguous. Returning False, but in future this will result in an error. Use `array.size > 0` to check that an array is not empty.\n",
      "  if diff:\n"
     ]
    },
    {
     "name": "stdout",
     "output_type": "stream",
     "text": [
      "[[1.]]\n",
      "FAQBot: ሰላም ምን ላግዝህ/ሽ\n",
      "You: ምንም\n"
     ]
    },
    {
     "name": "stderr",
     "output_type": "stream",
     "text": [
      "C:\\Users\\GoitoM\\.conda\\envs\\chatbot\\lib\\site-packages\\sklearn\\preprocessing\\label.py:151: DeprecationWarning: The truth value of an empty array is ambiguous. Returning False, but in future this will result in an error. Use `array.size > 0` to check that an array is not empty.\n",
      "  if diff:\n"
     ]
    },
    {
     "name": "stdout",
     "output_type": "stream",
     "text": [
      "[[0.]]\n",
      "FAQBot: ይቅርታ በደምብ አልገባኝም\n",
      "You: ቻው\n"
     ]
    }
   ],
   "source": [
    "\n",
    "def chat():\n",
    "    print(\"Bot: Hi, Welcome to our bank!\")\n",
    "    while True:\n",
    "        usr = input(\"You: \")\n",
    "        if usr=='ቻው':\n",
    "            break\n",
    "        t_usr = tfv.transform([cleanup(usr.strip().lower())])\n",
    "        class_ = le.inverse_transform(model.predict(t_usr)[0])\n",
    "        questionset = data[data['Class']==class_]\n",
    "\n",
    "        #print(\"Question classified under category:\", class_)\n",
    "       # print(\"{} Questions belong to this class\".format(len(questionset)))\n",
    "\n",
    "        cos_sims = []\n",
    "        for question in questionset['Question']:\n",
    "            sims = cosine_similarity(tfv.transform([question]), t_usr)\n",
    "            cos_sims.append(sims)\n",
    "            \n",
    "        ind = cos_sims.index(max(cos_sims))\n",
    "        sim=max(cos_sims)\n",
    "        print(sim)\n",
    "        if sim>=0.6:\n",
    "            print(\"FAQBot:\", data['Answer'][questionset.index[ind]])\n",
    "        elif sim>0.3:\n",
    "            print(\"FAQBot: ይቅርታ አልገባኝም አስተካክለህ ፃፈው። እንደመሰለኝ ከሆነ ግን እንዲህ ነው: \\n\")\n",
    "            print(data['Answer'][questionset.index[ind]])\n",
    "        elif sim<=0.3:\n",
    "            print(\"FAQBot: ይቅርታ በደምብ አልገባኝም\")\n",
    "            \n",
    "\n",
    "chat()\n"
   ]
  },
  {
   "cell_type": "code",
   "execution_count": null,
   "metadata": {},
   "outputs": [],
   "source": []
  }
 ],
 "metadata": {
  "kernelspec": {
   "display_name": "Python 3",
   "language": "python",
   "name": "python3"
  },
  "language_info": {
   "codemirror_mode": {
    "name": "ipython",
    "version": 3
   },
   "file_extension": ".py",
   "mimetype": "text/x-python",
   "name": "python",
   "nbconvert_exporter": "python",
   "pygments_lexer": "ipython3",
   "version": "3.6.9"
  }
 },
 "nbformat": 4,
 "nbformat_minor": 2
}
